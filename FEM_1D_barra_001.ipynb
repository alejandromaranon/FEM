{
  "nbformat": 4,
  "nbformat_minor": 0,
  "metadata": {
    "colab": {
      "provenance": [],
      "authorship_tag": "ABX9TyN/CKApUDuruTKoHwHm1jAy",
      "include_colab_link": true
    },
    "kernelspec": {
      "name": "python3",
      "display_name": "Python 3"
    },
    "language_info": {
      "name": "python"
    }
  },
  "cells": [
    {
      "cell_type": "markdown",
      "metadata": {
        "id": "view-in-github",
        "colab_type": "text"
      },
      "source": [
        "<a href=\"https://colab.research.google.com/github/alejandromaranon/FEM/blob/main/FEM_1D_barra_001.ipynb\" target=\"_parent\"><img src=\"https://colab.research.google.com/assets/colab-badge.svg\" alt=\"Open In Colab\"/></a>"
      ]
    },
    {
      "cell_type": "markdown",
      "source": [
        "# **Ejemplo 1: Barra FEM 1D**\n",
        "\n",
        "La barra mostrada en la figura tiene una longitud $L$, una sección transversal $A$ y un módulo de elasticidad $E$. La barra está sometida a una carga distribuida constante $q_o$ y a una carga puntal $P$.\n",
        "\n",
        "\n",
        "![]<img src=\"https://github.com/alejandromaranon/FEM/blob/5c20f3e6e2c07300030c1156bbd3f0f0a0df7099/Images/FEM_1D_barra_001.svg\">\n",
        "\n",
        "En este ejemplo se implementa el Método de Elementos Finitos (formulación local), para el cálculo de desplazamientos y esfuerzos en la barra."
      ],
      "metadata": {
        "id": "sy0AiNlsTcUi"
      }
    },
    {
      "cell_type": "markdown",
      "source": [
        "## Forma fuerte (desplazamientos) del problema\n",
        "\n",
        "Dados $A$, $E$ y $q_o$ en $[0,L]$ encontrar $u$ tal que:\n",
        "\n",
        "$EA u_{,xx} + q_o = 0$ en $[0,L]$\n",
        "\n",
        "$u=0$ en $x=0$\n",
        "\n",
        "$u_{,x} = P/AE$ en $x=L$\n",
        "\n",
        "Las soluciones exactas del desplazamiento y del esfuerzo de esta forma son las siguientes:\n",
        "\n",
        "$u(x) = (P+q_oL)\\frac{x}{AE}-\\frac{q_ox^2}{2AE}$\n",
        "\n",
        "$σ(x) = \\frac{P}{A}+\\frac{q_o}{A}(L-x)$"
      ],
      "metadata": {
        "id": "vUPflrBuyOiv"
      }
    },
    {
      "cell_type": "code",
      "source": [
        "import numpy as np\n",
        "import matplotlib.pyplot as plt\n",
        "from scipy.stats import beta"
      ],
      "metadata": {
        "id": "QBrfZnQwRrM7"
      },
      "execution_count": 385,
      "outputs": []
    },
    {
      "cell_type": "markdown",
      "source": [
        "**NOTA IMPORTANTE**: \n",
        "\n",
        "En Python el primer indice (posición) de un arreglo (vector o matriz) es cero (0). A diferencia de Matlab, donde el primer indice es 1.\n"
      ],
      "metadata": {
        "id": "GI1y5XBAOfYi"
      }
    },
    {
      "cell_type": "markdown",
      "source": [
        "## Pre-procesamiento\n",
        "Durante el preprocesamiento, se genera la malla para una geometría determinada y se especifican las propiedades de los materiales, las condiciones de frontera y las cargas prescritas."
      ],
      "metadata": {
        "id": "3NaCHNOVbRUq"
      }
    },
    {
      "cell_type": "code",
      "source": [
        "# ----\n",
        "# Parámetros de control del problema \n",
        "# ----\n",
        "\n",
        "# Geometría de la barra [SI]\n",
        "L = 1.5             # Longitud en [m]\n",
        "A = 0.01          # Area de la sección transversal [m^2]\n",
        "\n",
        "# Propiedades mecánicas del material\n",
        "E = 200E9         # Módulo de Elasticidad [Pa]\n",
        "\n",
        "# Cargas en la barra\n",
        "q0 = 100          # Carga distribuida [N/m]\n",
        "P = 200           # Carga en el extremo [N]\n",
        "\n",
        "# Discretización de elementos finitos\n",
        "nel = 4           # Número de elementos\n",
        "nnodos = nel + 1  # Número de nodos (nel + 1)"
      ],
      "metadata": {
        "id": "XeeYkubDXq31"
      },
      "execution_count": 386,
      "outputs": []
    },
    {
      "cell_type": "code",
      "source": [
        "# ----\n",
        "# Coordenadas (localización) de cada uno de los nodos\n",
        "# (en este ejemplo se puede construir una malla irregular\n",
        "# utilizandola función beta)\n",
        "# ----\n",
        "\n",
        "# Esta función crea la malla irregular: \n",
        "# alfa debe estar en el rango [0,1]\n",
        "# Si nel es 1 o 2, la función crea elementos de la misma longitud. \n",
        "# Si nel > 2, la función distribuye la longitud de elementos\n",
        "# Si nel > 2 y alfa = 1.0, los elementos tienen la misma longitud\n",
        "\n",
        "def mallairregular(divisiones=nnodos, inicio=0, final=L, alfa=0.15):\n",
        "    x = np.linspace(0, 1, divisiones)\n",
        "    return inicio + beta.cdf(x, 2.-alfa, 2.-alfa) * (final-inicio)\n",
        "\n",
        "gcoord = mallairregular()\n",
        "\n",
        "# print(gcoord)"
      ],
      "metadata": {
        "id": "gDEUlOboYlVQ"
      },
      "execution_count": 387,
      "outputs": []
    },
    {
      "cell_type": "code",
      "source": [
        "# ----\n",
        "# Arreglo de conectividad nodal de cada elemento\n",
        "# (Topología de los elementos)\n",
        "# ----\n",
        "\n",
        "# Dado que en un problema 1D la numeración de los nodos\n",
        "# es secuencial, se utiliza un arreglo bi-dimensional\n",
        "# en el cual el primer indice indica el numero del elemento\n",
        "# y el segundo o indice denota el número del nodo asociado con\n",
        "# dicho elemento. La primera columna es el nodo 1 de la\n",
        "# fomulación local y la segunda columna el nodo 2.\n",
        "\n",
        "nodos = np.array([[i,i+1] for i in range(nel)], dtype=int)\n",
        "\n",
        "# print(nodos)"
      ],
      "metadata": {
        "id": "5Jr3z75YYsIx"
      },
      "execution_count": 388,
      "outputs": []
    },
    {
      "cell_type": "code",
      "source": [
        "# ----\n",
        "# Condiciones de frontera\n",
        "# (Desplazamientos conocidos)\n",
        "# ----\n",
        "\n",
        "# La primera columna de cf es el número del nodo y\n",
        "# el segundo es el valor del desplazamiento en dicho nodo.\n",
        "\n",
        "cf = np.array([[0, 0]])\n",
        "\n",
        "# print(cf)"
      ],
      "metadata": {
        "id": "njzC337K11vF"
      },
      "execution_count": 389,
      "outputs": []
    },
    {
      "cell_type": "code",
      "source": [
        "# ----\n",
        "# Fuerzas nodales aplicadas\n",
        "# ----\n",
        "\n",
        "# La primera columna de fn es el número del nodo y\n",
        "# el segundo es el valor de la fuerza en dicho nodo.\n",
        "\n",
        "fn = np.array([[nnodos-1, P]])\n",
        "\n",
        "# print(fn)"
      ],
      "metadata": {
        "id": "Ket2nYNDQhkO"
      },
      "execution_count": 390,
      "outputs": []
    },
    {
      "cell_type": "markdown",
      "source": [
        "## Solución\n",
        "Durante la solución, se calculan las matrices de elementos y se resuelven las ecuaciones."
      ],
      "metadata": {
        "id": "pyPoaeRLihvp"
      }
    },
    {
      "cell_type": "code",
      "source": [
        "# ----\n",
        "# Ensamblaje de la matriz de rigidez K y el vector\n",
        "# de fuerza F\n",
        "# ----\n",
        "\n",
        "K = np.zeros((nnodos, nnodos))\n",
        "F = np.zeros((nnodos, 1))\n",
        "\n",
        "kk = []     # matriz de rigidez del elemento\n",
        "ff = []     # vector de fuerza del elemento\n",
        "\n",
        "he = []     # arreglo que contiene las longitudes de cada elemento\n",
        "\n",
        "for num_ele in range(nel):\n",
        "  # extrae los numeros globales de los nodos del elemento\n",
        "  nodo1 = nodos[[num_ele],0]\n",
        "  nodo2 = nodos[[num_ele],1]\n",
        "\n",
        "  # extrae las coordenadas de los nodos\n",
        "  x1 = gcoord[nodo1]\n",
        "  x2 = gcoord[nodo2]\n",
        "\n",
        "  # calcula la longitud del elemento\n",
        "  he.append(x2-x1)\n",
        "\n",
        "  # calcula la matriz de rigidez kk del elemento num_ele\n",
        "  kk = (E*A/he[num_ele])*np.array([[1, -1],[-1, 1]])\n",
        "\n",
        "  # calcula el vector de fuerza ff del elemento num_ele\n",
        "  ff = (q0*he[num_ele]/2)*np.array([[1],[1]])\n",
        "\n",
        "  # ensambla ff en F y kk en K\n",
        "  for i in range(2):\n",
        "    F[nodos[[num_ele],i]] += ff[i]\n",
        "    \n",
        "    for j in range(2):\n",
        "      K[nodos[[num_ele],i], nodos[[num_ele],j]] += kk[i,j]\n",
        "\n",
        "# print(K,F)"
      ],
      "metadata": {
        "id": "an7X6pG7WKQg"
      },
      "execution_count": 391,
      "outputs": []
    },
    {
      "cell_type": "code",
      "source": [
        "# ----\n",
        "# Aplica las restricciones (desplazamientos conocidos)\n",
        "# modificando K y F\n",
        "# ----\n",
        "\n",
        "# Se utiliza una copia de K para incluir las condiciones de frontera cf\n",
        "Kcf = np.copy(K)\n",
        "\n",
        "for num_cf in range(cf.shape[0]):\n",
        "  i = cf[num_cf,0]      # este es el número del nodo\n",
        "  F[i] = cf[num_cf,1]   # este es el valor del desplazamiento\n",
        "\n",
        "  for j in range(nnodos):\n",
        "    if i==j:\n",
        "      Kcf[i,j] = 1\n",
        "    else:\n",
        "      Kcf[i,j] = 0\n",
        "\n",
        "# print(Kcf,F)"
      ],
      "metadata": {
        "id": "QtvmXcgcmCiZ"
      },
      "execution_count": 392,
      "outputs": []
    },
    {
      "cell_type": "code",
      "source": [
        "# ----\n",
        "# Se incluyen en F las fuerzas nodales aplicadas (fn)\n",
        "# ----\n",
        "\n",
        "for num_fn in range(fn.shape[0]):\n",
        "  i = fn[num_fn,0]      # este es el número del nodo\n",
        "  F[i] += fn[num_fn,1]   # se suma el valor de la fuerza en el nodo\n",
        "\n",
        "# print(F)"
      ],
      "metadata": {
        "id": "WDwGlt8N1GJu"
      },
      "execution_count": 393,
      "outputs": []
    },
    {
      "cell_type": "code",
      "source": [
        "# ----\n",
        "# Cálculo de desplazamientos nodales\n",
        "# ----\n",
        "\n",
        "d = np.linalg.solve(Kcf,F)\n",
        "\n",
        "print(d)"
      ],
      "metadata": {
        "colab": {
          "base_uri": "https://localhost:8080/"
        },
        "id": "739tSrEmx1Au",
        "outputId": "e2140ed4-5bfe-4a14-c893-cf6903d46241"
      },
      "execution_count": 394,
      "outputs": [
        {
          "output_type": "stream",
          "name": "stdout",
          "text": [
            "[[-2.20489914e-22]\n",
            " [ 4.22283812e-08]\n",
            " [ 1.17187500e-07]\n",
            " [ 1.79659195e-07]\n",
            " [ 2.06250000e-07]]\n"
          ]
        }
      ]
    },
    {
      "cell_type": "code",
      "source": [
        "# ----\n",
        "# Calculo de reacciones nodales\n",
        "# ----\n",
        "\n",
        "Rn = K@d\n",
        "\n",
        "print(Rn)"
      ],
      "metadata": {
        "colab": {
          "base_uri": "https://localhost:8080/"
        },
        "id": "J1c7rFYwzgh2",
        "outputId": "7138604d-bdb3-441c-daa1-9774f3b62888"
      },
      "execution_count": 395,
      "outputs": [
        {
          "output_type": "stream",
          "name": "stdout",
          "text": [
            "[[-337.48742069]\n",
            " [  37.5       ]\n",
            " [  49.97484138]\n",
            " [  37.5       ]\n",
            " [ 212.51257931]]\n"
          ]
        }
      ]
    },
    {
      "cell_type": "code",
      "source": [
        "# ----\n",
        "# Calculo de esfuerzos en los elementos\n",
        "# ----\n",
        "\n",
        "esfuerzo =[]\n",
        "\n",
        "for num_ele in range(nel):\n",
        "  # extrae los numeros globales de los nodos del elemento\n",
        "  nodo1 = nodos[[num_ele],0]\n",
        "  nodo2 = nodos[[num_ele],1]\n",
        "\n",
        "  # calcula la longitud del elemento\n",
        "  esfuerzo.append(E*(-d[nodo1]+d[nodo2])/he[num_ele])\n",
        "\n",
        "#print(esfuerzo)"
      ],
      "metadata": {
        "id": "QwJhlUFn9Bbo"
      },
      "execution_count": 396,
      "outputs": []
    },
    {
      "cell_type": "markdown",
      "source": [
        "## Post-procesamiento\n",
        "Esta etapa se utiliza para visualizar las soluciones y ver imágenes gráficas de los desplazamientos, esfuerzos, deformaciones, etc."
      ],
      "metadata": {
        "id": "pR4gG8Y6b-qa"
      }
    },
    {
      "cell_type": "code",
      "source": [
        "# ----\n",
        "# Grafica de desplazamientos\n",
        "# ----\n",
        "\n",
        "# Deplazamientos del MEF\n",
        "plt.plot(gcoord, d, 'b', marker = 'o', label='Solución MEF')\n",
        "plt.xlabel('x')\n",
        "plt.ylabel('Desplazamiento')\n",
        "plt.title('Desplazamiento por MEF vs Exacto')\n",
        "\n",
        "# Desplazamientos exactos\n",
        "x = np.linspace(0,L)\n",
        "plt.plot(x, ((P+q0*L)*x-0.5*(q0*x**2))/(A*E), 'g--', label='Solución exacta')\n",
        "plt.legend(loc='best')\n",
        "plt.grid(True)"
      ],
      "metadata": {
        "colab": {
          "base_uri": "https://localhost:8080/",
          "height": 295
        },
        "id": "RWAUcAjF_Dt6",
        "outputId": "116c44ec-5370-444b-a62c-59c5b12d3924"
      },
      "execution_count": 397,
      "outputs": [
        {
          "output_type": "display_data",
          "data": {
            "text/plain": [
              "<Figure size 432x288 with 1 Axes>"
            ],
            "image/png": "[encoded data removed]"
          },
          "metadata": {
            "needs_background": "light"
          }
        }
      ]
    },
    {
      "cell_type": "code",
      "source": [
        "# ----\n",
        "# Grafica de esfuerzos\n",
        "# ----\n",
        "\n",
        "# Esfuerzos del MEF\n",
        "for num_ele in range(nel):\n",
        "  # extrae los numeros globales de los nodos del elemento\n",
        "  nodo1 = nodos[[num_ele],0]\n",
        "  nodo2 = nodos[[num_ele],1]\n",
        "\n",
        "  # extrae las coordenadas de los nodos\n",
        "  x1 = gcoord[nodo1]\n",
        "  x2 = gcoord[nodo2]\n",
        "\n",
        "  plt.plot([x1,x2], [esfuerzo[num_ele][0], esfuerzo[num_ele][0]],'b')\n",
        "\n",
        "# Esta línea es para que aparezca la etiqueta 'Solución MEF'\n",
        "plt.plot([],[], 'b', label = 'Solución MEF')   \n",
        "\n",
        "# Esfuerzos de la solución exacta\n",
        "plt.plot(x, (q0*(L-x)+P)/A, 'g--', label='Solución exacta')\n",
        "plt.legend(loc='best')\n",
        "\n",
        "plt.xlabel('x')\n",
        "plt.ylabel('Esfuerzo')\n",
        "plt.title('Esfuerzo por MEF vs Exacto')\n",
        "plt.grid(True)\n"
      ],
      "metadata": {
        "colab": {
          "base_uri": "https://localhost:8080/",
          "height": 295
        },
        "id": "rzRvSJ7LDciq",
        "outputId": "3e785dbd-3c7f-43a3-c47a-a5c06c565397"
      },
      "execution_count": 398,
      "outputs": [
        {
          "output_type": "display_data",
          "data": {
            "text/plain": [
              "<Figure size 432x288 with 1 Axes>"
            ],
            "image/png": "[encoded data removed]"
          },
          "metadata": {
            "needs_background": "light"
          }
        }
      ]
    },
    {
      "cell_type": "code",
      "source": [
        "# ----\n",
        "# Reporte de parámetros para análisis de convergencia\n",
        "# ----\n",
        "\n",
        "# Esfuerzo máximo del MEF\n",
        "print(np.max(np.absolute(esfuerzo)))"
      ],
      "metadata": {
        "colab": {
          "base_uri": "https://localhost:8080/"
        },
        "id": "Gsd2WAT3o0Hk",
        "outputId": "180f67f9-329e-4fc2-f934-400968a3276e"
      },
      "execution_count": 399,
      "outputs": [
        {
          "output_type": "stream",
          "name": "stdout",
          "text": [
            "33748.74206890375\n"
          ]
        }
      ]
    },
    {
      "cell_type": "markdown",
      "source": [
        "## FIN"
      ],
      "metadata": {
        "id": "gXvFSkgP6dUE"
      }
    }
  ]
}
