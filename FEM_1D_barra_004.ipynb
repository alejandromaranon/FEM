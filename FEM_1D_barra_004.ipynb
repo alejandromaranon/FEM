{
  "nbformat": 4,
  "nbformat_minor": 0,
  "metadata": {
    "colab": {
      "provenance": [],
      "authorship_tag": "ABX9TyO5yuWa9rpjW/gNCNPY5wdr",
      "include_colab_link": true
    },
    "kernelspec": {
      "name": "python3",
      "display_name": "Python 3"
    },
    "language_info": {
      "name": "python"
    }
  },
  "cells": [
    {
      "cell_type": "markdown",
      "metadata": {
        "id": "view-in-github",
        "colab_type": "text"
      },
      "source": [
        "<a href=\"https://colab.research.google.com/github/alejandromaranon/FEM/blob/main/FEM_1D_barra_004.ipynb\" target=\"_parent\"><img src=\"https://colab.research.google.com/assets/colab-badge.svg\" alt=\"Open In Colab\"/></a>"
      ]
    },
    {
      "cell_type": "markdown",
      "source": [
        "# **Ejemplo 4: Barra FEM 1D (inercial)**\n",
        "\n",
        "La barra uniforme de longitud $L$, área transversal $A$, densidad $ρ$ y módulo de elasticidad $E$, se encuentra unida a un eje central. La masa $M$ está unida al extremo derecho de la barra. La barra y la masa giran con una velocidad angular constante $ω$ alrededor del eje central.  Los pesos de la barra y la masa son despreciables en comparación al efecto inercial producido por la rotación."
      ],
      "metadata": {
        "id": "sy0AiNlsTcUi"
      }
    },
    {
      "cell_type": "code",
      "source": [
        "from IPython.display import Image\n",
        "Image(url='https://raw.githubusercontent.com/alejandromaranon/FEM/cfff16761030788bf5d11a6a996acaa502753fff/Images/FEM_1D_barra_004.svg', width=400)"
      ],
      "metadata": {
        "colab": {
          "base_uri": "https://localhost:8080/",
          "height": 187
        },
        "id": "Ve1rdrr599Ko",
        "outputId": "d39208b1-0d69-43c6-c0e9-5bc32de8989c"
      },
      "execution_count": 229,
      "outputs": [
        {
          "output_type": "execute_result",
          "data": {
            "text/html": [
              "<img src=\"https://raw.githubusercontent.com/alejandromaranon/FEM/cfff16761030788bf5d11a6a996acaa502753fff/Images/FEM_1D_barra_004.svg\" width=\"400\"/>"
            ],
            "text/plain": [
              "<IPython.core.display.Image object>"
            ]
          },
          "metadata": {},
          "execution_count": 229
        }
      ]
    },
    {
      "cell_type": "markdown",
      "source": [
        "En este ejemplo se implementa el Método de Elementos Finitos (formulación local), para el cálculo de desplazamientos y esfuerzos en la barra."
      ],
      "metadata": {
        "id": "5C6pWGXC_AHP"
      }
    },
    {
      "cell_type": "markdown",
      "source": [
        "## Forma fuerte (desplazamientos) del problema\n",
        "\n",
        "Dados $A$, $E$ y $ρ$ en $[0,L]$ encontrar $u$ tal que:\n",
        "\n",
        "$E u_{,xx} + ρ{ω}^2x = 0$ en $[0,L]$\n",
        "\n",
        "$u=0$ en $x=0$\n",
        "\n",
        "$EAu_{,x} = M {ω}^2 L + \\rho A {ω}^2 \\frac{L^2}{2}$ en $x=0$\n",
        "\n",
        "Las soluciones exactas del desplazamiento y del esfuerzo de esta forma son las siguientes:\n",
        "\n",
        "$u(x) = \\frac{ρ{ω}^2}{6E}(3L^2x-x^3+\\frac{6*M*L}{\\rho A} x)$\n",
        "\n",
        "$σ(x) = \\frac{ρ{ω}^2}{2}(L^2-x^2+\\frac{2*M*L}{\\rho A})$"
      ],
      "metadata": {
        "id": "vUPflrBuyOiv"
      }
    },
    {
      "cell_type": "code",
      "source": [
        "import numpy as np\n",
        "import matplotlib.pyplot as plt\n",
        "from scipy.stats import beta"
      ],
      "metadata": {
        "id": "QBrfZnQwRrM7"
      },
      "execution_count": 230,
      "outputs": []
    },
    {
      "cell_type": "markdown",
      "source": [
        "**NOTA IMPORTANTE**: \n",
        "\n",
        "En Python el primer indice (posición) de un arreglo (vector o matriz) es cero (0). A diferencia de Matlab, donde el primer indice es 1.\n"
      ],
      "metadata": {
        "id": "GI1y5XBAOfYi"
      }
    },
    {
      "cell_type": "markdown",
      "source": [
        "## Pre-procesamiento\n",
        "Durante el preprocesamiento, se genera la malla para una geometría determinada y se especifican las propiedades de los materiales, las condiciones de frontera y las cargas prescritas."
      ],
      "metadata": {
        "id": "3NaCHNOVbRUq"
      }
    },
    {
      "cell_type": "code",
      "source": [
        "# ----\n",
        "# Parámetros de control del problema \n",
        "# ----\n",
        "\n",
        "# Geometría de la barra [SI]\n",
        "L = 1.0           # Longitud en [m]\n",
        "A = 0.01          # Area de la sección transversal [m^2]\n",
        "\n",
        "# Propiedades de los materiales\n",
        "E = 200.E9         # Módulo de Elasticidad [Pa]\n",
        "rho = 7860.        # Densidad del material [kg/m^3]\n",
        "M = 20.            # Masa unida a la barra [kg]\n",
        "\n",
        "# Velocidad angular de la barra\n",
        "omega = 7.         # Velocidad angular [rad/s]\n",
        "\n",
        "# Discretización de elementos finitos\n",
        "nel = 4           # Número de elementos\n",
        "nnodos = nel + 1  # Número de nodos (nel + 1)"
      ],
      "metadata": {
        "id": "XeeYkubDXq31"
      },
      "execution_count": 231,
      "outputs": []
    },
    {
      "cell_type": "code",
      "source": [
        "# ----\n",
        "# Coordenadas (localización) de cada uno de los nodos\n",
        "# (en este ejemplo se puede construir una discretizacion irregular\n",
        "# utilizando la función beta)\n",
        "# ----\n",
        "\n",
        "# Esta función crea la malla irregular: \n",
        "# \"a\" debe estar en el rango [0,1]\n",
        "# Si nel es 1 o 2, la función crea elementos de la misma longitud. \n",
        "# Si nel > 2, la función distribuye la longitud de elementos\n",
        "# Si nel > 2 y a = 1.0, los elementos tienen la misma longitud\n",
        "\n",
        "def discretizacion(divisiones=nnodos, inicio=0, final=L, a=1):\n",
        "    x = np.linspace(0, 1, divisiones)\n",
        "    return inicio + beta.cdf(x, 2.-a, 2.-a) * (final-inicio)\n",
        "\n",
        "gcoord = discretizacion()\n",
        "\n",
        "#print(gcoord)"
      ],
      "metadata": {
        "id": "gDEUlOboYlVQ"
      },
      "execution_count": 232,
      "outputs": []
    },
    {
      "cell_type": "code",
      "source": [
        "# ----\n",
        "# Arreglo de conectividad nodal de cada elemento\n",
        "# (Topología de los elementos)\n",
        "# ----\n",
        "\n",
        "# Dado que en un problema 1D la numeración de los nodos\n",
        "# es secuencial, se utiliza un arreglo bi-dimensional\n",
        "# en el cual el primer indice indica el numero del elemento\n",
        "# y el segundo o indice denota el número del nodo asociado con\n",
        "# dicho elemento. La primera columna es el nodo 1 de la\n",
        "# fomulación local y la segunda columna el nodo 2.\n",
        "\n",
        "nodos = np.array([[i,i+1] for i in range(nel)], dtype=int)\n",
        "\n",
        "#print(nodos)"
      ],
      "metadata": {
        "id": "5Jr3z75YYsIx"
      },
      "execution_count": 233,
      "outputs": []
    },
    {
      "cell_type": "code",
      "source": [
        "# ----\n",
        "# Condiciones de frontera\n",
        "# (Desplazamientos conocidos)\n",
        "# ----\n",
        "\n",
        "# La primera columna de cf es el número del nodo y\n",
        "# el segundo es el valor del desplazamiento en dicho nodo.\n",
        "\n",
        "cf = np.array([[0, 0]])\n",
        "\n",
        "#print(cf)"
      ],
      "metadata": {
        "id": "njzC337K11vF"
      },
      "execution_count": 234,
      "outputs": []
    },
    {
      "cell_type": "code",
      "source": [
        "# ----\n",
        "# Fuerzas nodales aplicadas\n",
        "# ----\n",
        "fn = np.array([[(nnodos-1), (M*(omega**2)*L)]]).astype(object)\n",
        "fn [:,0] = fn [:,0].astype(int)\n",
        "\n",
        "#print(fn)"
      ],
      "metadata": {
        "id": "Ket2nYNDQhkO"
      },
      "execution_count": 235,
      "outputs": []
    },
    {
      "cell_type": "markdown",
      "source": [
        "## Solución\n",
        "Durante la solución, se calculan las matrices de elementos y se resuelven las ecuaciones."
      ],
      "metadata": {
        "id": "pyPoaeRLihvp"
      }
    },
    {
      "cell_type": "code",
      "source": [
        "# ----\n",
        "# Ensamblaje de la matriz de rigidez K y el vector\n",
        "# de fuerza F\n",
        "# ----\n",
        "\n",
        "K = np.zeros((nnodos, nnodos))\n",
        "F = np.zeros((nnodos, 1))\n",
        "\n",
        "kk = []     # matriz de rigidez del elemento\n",
        "ff = []     # vector de fuerza del elemento\n",
        "\n",
        "he = []     # arreglo que contiene las longitudes de cada elemento\n",
        "\n",
        "for num_ele in range(nel):\n",
        "  # extrae los numeros globales de los nodos del elemento\n",
        "  nodo1 = nodos[[num_ele],0]\n",
        "  nodo2 = nodos[[num_ele],1]\n",
        "\n",
        "  # extrae las coordenadas de los nodos\n",
        "  x1 = gcoord[nodo1]\n",
        "  x2 = gcoord[nodo2]\n",
        "\n",
        "  # calcula la longitud del elemento\n",
        "  he.append(x2-x1)\n",
        "\n",
        "  # calcula la matriz de rigidez kk del elemento num_ele\n",
        "  kk = (E*A/he[num_ele])*np.array([[1, -1],[-1, 1]])\n",
        "\n",
        "  # calcula el vector de fuerza ff del elemento num_ele\n",
        "  ff = rho*A*(omega**2)*(he[num_ele]/6)*np.array([[2*x1+x2],[x1+2*x2]])\n",
        "\n",
        "  # ensambla ff en F y kk en K\n",
        "  for i in range(2):\n",
        "    F[nodos[[num_ele],i]] += ff[i]\n",
        "    \n",
        "    for j in range(2):\n",
        "      K[nodos[[num_ele],i], nodos[[num_ele],j]] += kk[i,j]\n",
        "\n",
        "#print(K,F)"
      ],
      "metadata": {
        "id": "an7X6pG7WKQg"
      },
      "execution_count": 236,
      "outputs": []
    },
    {
      "cell_type": "code",
      "source": [
        "# ----\n",
        "# Aplica las restricciones (desplazamientos conocidos)\n",
        "# modificando K y F\n",
        "# ----\n",
        "\n",
        "# Se utiliza una copia de K para incluir las condiciones de frontera cf\n",
        "Kcf = np.copy(K)\n",
        "\n",
        "for num_cf in range(cf.shape[0]):\n",
        "  i = cf[num_cf,0]      # este es el número del nodo\n",
        "  F[i] = cf[num_cf,1]   # este es el valor del desplazamiento\n",
        "\n",
        "  for j in range(nnodos):\n",
        "    if i==j:\n",
        "      Kcf[i,j] = 1\n",
        "    else:\n",
        "      Kcf[i,j] = 0\n",
        "\n",
        "#print(Kcf,F)"
      ],
      "metadata": {
        "id": "QtvmXcgcmCiZ"
      },
      "execution_count": 237,
      "outputs": []
    },
    {
      "cell_type": "code",
      "source": [
        "# ----\n",
        "# Se incluyen en F las fuerzas nodales aplicadas (fn)\n",
        "# ----\n",
        "\n",
        "for num_fn in range(fn.shape[0]):\n",
        "  i = fn[num_fn,0]      # este es el número del nodo\n",
        "  F[i] += fn[num_fn,1]  # se suma el valor de la fuerza en el nodo\n",
        "\n",
        "# print(F)"
      ],
      "metadata": {
        "id": "dnGCycxbPNV8"
      },
      "execution_count": 238,
      "outputs": []
    },
    {
      "cell_type": "code",
      "source": [
        "# ----\n",
        "# Cálculo de desplazamientos nodales\n",
        "# ----\n",
        "\n",
        "d = np.linalg.solve(Kcf,F)\n",
        "\n",
        "print(d)"
      ],
      "metadata": {
        "colab": {
          "base_uri": "https://localhost:8080/"
        },
        "id": "739tSrEmx1Au",
        "outputId": "deaf53d2-33bc-4b1e-e210-70879a05ef1c"
      },
      "execution_count": 239,
      "outputs": [
        {
          "output_type": "stream",
          "name": "stdout",
          "text": [
            "[[-2.27373675e-22]\n",
            " [ 3.58197656e-07]\n",
            " [ 6.86306250e-07]\n",
            " [ 9.54236719e-07]\n",
            " [ 1.13190000e-06]]\n"
          ]
        }
      ]
    },
    {
      "cell_type": "code",
      "source": [
        "# ----\n",
        "# Calculo de reacciones nodales\n",
        "# ----\n",
        "\n",
        "Rn = K@d\n",
        "\n",
        "print(Rn)"
      ],
      "metadata": {
        "colab": {
          "base_uri": "https://localhost:8080/"
        },
        "id": "J1c7rFYwzgh2",
        "outputId": "d56f05a0-5074-4d23-84c6-c0020bd5bf2b"
      },
      "execution_count": 240,
      "outputs": [
        {
          "output_type": "stream",
          "name": "stdout",
          "text": [
            "[[-2865.58125]\n",
            " [  240.7125 ]\n",
            " [  481.425  ]\n",
            " [  722.1375 ]\n",
            " [ 1421.30625]]\n"
          ]
        }
      ]
    },
    {
      "cell_type": "code",
      "source": [
        "# ----\n",
        "# Calculo de esfuerzos en los elementos\n",
        "# ----\n",
        "\n",
        "esfuerzo =[]\n",
        "\n",
        "for num_ele in range(nel):\n",
        "  # extrae los numeros globales de los nodos del elemento\n",
        "  nodo1 = nodos[[num_ele],0]\n",
        "  nodo2 = nodos[[num_ele],1]\n",
        "\n",
        "  # calcula la longitud del elemento\n",
        "  esfuerzo.append(E*(-d[nodo1]+d[nodo2])/he[num_ele])\n",
        "\n",
        "#print(esfuerzo)"
      ],
      "metadata": {
        "id": "QwJhlUFn9Bbo"
      },
      "execution_count": 241,
      "outputs": []
    },
    {
      "cell_type": "markdown",
      "source": [
        "## Post-procesamiento\n",
        "Esta etapa se utiliza para visualizar las soluciones y ver imágenes gráficas de los desplazamientos, esfuerzos, deformaciones, etc."
      ],
      "metadata": {
        "id": "pR4gG8Y6b-qa"
      }
    },
    {
      "cell_type": "code",
      "source": [
        "# ----\n",
        "# Grafica de desplazamientos\n",
        "# ----\n",
        "\n",
        "# Deplazamientos del MEF\n",
        "plt.plot(gcoord, d, 'b', marker = 'o', label='Solución MEF')\n",
        "plt.xlabel('x')\n",
        "plt.ylabel('Desplazamiento')\n",
        "plt.title('Desplazamiento por MEF vs Exacto')\n",
        "\n",
        "# Desplazamientos exactos\n",
        "x = np.linspace(0,L)\n",
        "plt.plot(x, rho*(omega**2)*((3*x*L**2)-(x**3)+(6*M*L/(rho*A))*x)/(6*E), 'g--', label='Solución exacta')\n",
        "plt.legend(loc='best')\n",
        "plt.grid(True)"
      ],
      "metadata": {
        "colab": {
          "base_uri": "https://localhost:8080/",
          "height": 295
        },
        "id": "RWAUcAjF_Dt6",
        "outputId": "f52dba74-7f2f-43c4-eb06-a48edd412cd3"
      },
      "execution_count": 242,
      "outputs": [
        {
          "output_type": "display_data",
          "data": {
            "text/plain": [
              "<Figure size 432x288 with 1 Axes>"
            ],
            "image/png": "[encoded data removed]"
          },
          "metadata": {
            "needs_background": "light"
          }
        }
      ]
    },
    {
      "cell_type": "code",
      "source": [
        "# ----\n",
        "# Grafica de esfuerzos\n",
        "# ----\n",
        "\n",
        "# Esfuerzos del MEF\n",
        "for num_ele in range(nel):\n",
        "  # extrae los numeros globales de los nodos del elemento\n",
        "  nodo1 = nodos[[num_ele],0]\n",
        "  nodo2 = nodos[[num_ele],1]\n",
        "\n",
        "  # extrae las coordenadas de los nodos\n",
        "  x1 = gcoord[nodo1]\n",
        "  x2 = gcoord[nodo2]\n",
        "\n",
        "  plt.plot([x1,x2], [esfuerzo[num_ele][0], esfuerzo[num_ele][0]],'b')\n",
        "\n",
        "# Esta línea es para que aparezca la etiqueta 'Solución MEF'\n",
        "plt.plot([],[], 'b', label = 'Solución MEF')   \n",
        "\n",
        "# Esfuerzos de la solución exacta\n",
        "plt.plot(x, rho*(omega**2)*((L**2)-(x**2)+2*M*L/(rho*A))/2, 'g--', label='Solución exacta')\n",
        "plt.legend(loc='best')\n",
        "\n",
        "plt.xlabel('x')\n",
        "plt.ylabel('Esfuerzo')\n",
        "plt.title('Esfuerzo por MEF vs Exacto')\n",
        "plt.grid(True)\n"
      ],
      "metadata": {
        "colab": {
          "base_uri": "https://localhost:8080/",
          "height": 295
        },
        "id": "rzRvSJ7LDciq",
        "outputId": "8b8160fa-5fac-4481-ad3f-995fd3f4f335"
      },
      "execution_count": 243,
      "outputs": [
        {
          "output_type": "display_data",
          "data": {
            "text/plain": [
              "<Figure size 432x288 with 1 Axes>"
            ],
            "image/png": "[encoded data removed]"
          },
          "metadata": {
            "needs_background": "light"
          }
        }
      ]
    },
    {
      "cell_type": "code",
      "source": [
        "# ----\n",
        "# Reporte de parámetros para análisis de convergencia\n",
        "# ----\n",
        "\n",
        "# Esfuerzo máximo del MEF\n",
        "print(np.max(np.absolute(esfuerzo)))"
      ],
      "metadata": {
        "colab": {
          "base_uri": "https://localhost:8080/"
        },
        "id": "Gsd2WAT3o0Hk",
        "outputId": "59979dc6-dde3-4f08-e3fc-08fae01d0338"
      },
      "execution_count": 244,
      "outputs": [
        {
          "output_type": "stream",
          "name": "stdout",
          "text": [
            "286558.125\n"
          ]
        }
      ]
    },
    {
      "cell_type": "markdown",
      "source": [
        "EOF"
      ],
      "metadata": {
        "id": "gXvFSkgP6dUE"
      }
    }
  ]
}