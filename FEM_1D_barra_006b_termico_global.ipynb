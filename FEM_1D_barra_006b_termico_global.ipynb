{
  "nbformat": 4,
  "nbformat_minor": 0,
  "metadata": {
    "colab": {
      "provenance": [],
      "authorship_tag": "ABX9TyOXHXuzgCA8bpRjE6qEzTev",
      "include_colab_link": true
    },
    "kernelspec": {
      "name": "python3",
      "display_name": "Python 3"
    },
    "language_info": {
      "name": "python"
    }
  },
  "cells": [
    {
      "cell_type": "markdown",
      "metadata": {
        "id": "view-in-github",
        "colab_type": "text"
      },
      "source": [
        "<a href=\"https://colab.research.google.com/github/alejandromaranon/FEM/blob/main/FEM_1D_barra_006b_termico_global.ipynb\" target=\"_parent\"><img src=\"https://colab.research.google.com/assets/colab-badge.svg\" alt=\"Open In Colab\"/></a>"
      ]
    },
    {
      "cell_type": "markdown",
      "source": [
        "# **Ejemplo 6: Barra FEM 1D con Efecto Térmico - Formulación Global**\n",
        "\n",
        "La barra sólidamente unida a los soportes superior e inferior, está sometida al efecto de su propio peso y al de una carga $P$ localizada a $L_p$ del soporte inferior. La barra tiene una longitud $L$, un área de sección transversal $A$, una densidad $\\rho$, un módulo de elasticidad $E$ y un coeficiente de expansión térmica $α$ La barra experimenta un cambio de temperatura $\\Delta T$."
      ],
      "metadata": {
        "id": "sy0AiNlsTcUi"
      }
    },
    {
      "cell_type": "code",
      "source": [
        "from IPython.display import Image\n",
        "Image(url='https://raw.githubusercontent.com/alejandromaranon/FEM/9dce073baeaa8e08ba6393f3502a83f55f1dcec8/Images/FEM_1D_barra_006c_termico_global.svg', width=250)\n"
      ],
      "metadata": {
        "colab": {
          "base_uri": "https://localhost:8080/",
          "height": 322
        },
        "id": "LqVynCk0PFRu",
        "outputId": "c1a1a39f-60ae-4ce7-b959-74dacd3b472f"
      },
      "execution_count": null,
      "outputs": [
        {
          "output_type": "execute_result",
          "data": {
            "text/html": [
              "<img src=\"https://raw.githubusercontent.com/alejandromaranon/FEM/9dce073baeaa8e08ba6393f3502a83f55f1dcec8/Images/FEM_1D_barra_006c_termico_global.svg\" width=\"250\"/>"
            ],
            "text/plain": [
              "<IPython.core.display.Image object>"
            ]
          },
          "metadata": {},
          "execution_count": 19
        }
      ]
    },
    {
      "cell_type": "markdown",
      "source": [
        "En este ejemplo se implementa el Método de Elementos Finitos (**formulación global**), para el cálculo de desplazamientos y esfuerzos en la barra."
      ],
      "metadata": {
        "id": "70mFLSgSPhYq"
      }
    },
    {
      "cell_type": "markdown",
      "source": [
        "## Forma fuerte (desplazamientos) del problema\n",
        "\n",
        "Dados $A$, $\\rho$, $E$, $α$ y $\\Delta T$ en $[0,L]$ encontrar $u$ tal que:\n",
        "\n",
        "$EA u_{1,xx} + \\rho g A = 0$ en $[0,L-L_p]$\n",
        "\n",
        "$u_1=0$ en $x=0$\n",
        "\n",
        "$EA u_{2,xx} + \\rho g A = 0$ en $[L-L_p,L]$\n",
        "\n",
        "$u_2=0$ en $x=L$\n",
        "\n",
        "$u_1=u_2$ en $x=L-L_p$\n",
        "\n",
        "$u_{1,x} = u_{2,x}+P/AE$ en $x=L-L_p$\n",
        "\n",
        "Las soluciones exactas del desplazamiento y del esfuerzo de esta forma son las siguientes:\n",
        "\n",
        "$u_1(x) = \\frac{\\rho g}{2E}(Lx-x^2)+(\\frac{Lp}{L})\\frac{Px}{AE}$ en $[0,L-L_p]$\n",
        "\n",
        "$u_2(x) = \\frac{\\rho g}{2E}(L^2-x^2)+(x-L)(\\frac{\\rho g L}{2E}-\\frac{P(L-L_p)}{AEL})$ en $[L_p,L]$\n",
        "\n",
        "\n",
        "$σ_1(x) = \\rho g (\\frac{L}{2}-x)+(\\frac{Lp}{L})\\frac{P}{A}-E \\alpha ΔT$ en $[0,L-L_p]$\n",
        "\n",
        "$σ_2(x) = \\rho g (\\frac{L}{2}-x)+\\frac{P(L-Lp)}{AL}-E \\alpha ΔT$ en $[L_p,L]$"
      ],
      "metadata": {
        "id": "vUPflrBuyOiv"
      }
    },
    {
      "cell_type": "code",
      "source": [
        "import numpy as np\n",
        "import matplotlib.pyplot as plt"
      ],
      "metadata": {
        "id": "QBrfZnQwRrM7"
      },
      "execution_count": null,
      "outputs": []
    },
    {
      "cell_type": "markdown",
      "source": [
        "**NOTA IMPORTANTE**:\n",
        "\n",
        "En Python el primer indice (posición) de un arreglo (vector o matriz) es cero (0). A diferencia de Matlab, donde el primer indice es 1.\n"
      ],
      "metadata": {
        "id": "GI1y5XBAOfYi"
      }
    },
    {
      "cell_type": "markdown",
      "source": [
        "## Pre-procesamiento\n",
        "Durante el preprocesamiento, se definen los parámetros geometricos del problema, las cargas externas, los desplazamientos conocido y las propiedades de los materiales. También se construyen los arreglos de coordenadas de los nodos y de conectividad de los elementos."
      ],
      "metadata": {
        "id": "3NaCHNOVbRUq"
      }
    },
    {
      "cell_type": "code",
      "source": [
        "# ----\n",
        "# Parámetros del problema\n",
        "# ----\n",
        "\n",
        "# Geometría de la barra [SI]\n",
        "L = 1.5           # Longitud en [m]\n",
        "A = 0.01          # Area de la sección transversal [m^2]\n",
        "\n",
        "# Propiedades mecánicas del material\n",
        "E = 200E9         # Módulo de Elasticidad [Pa]\n",
        "\n",
        "# Propiedades físicas del material\n",
        "alfa = 12E-6      # Coeficiente de expansión térmica [1/C]\n",
        "ro = 7850         # Densidad [kg/m^3]\n",
        "\n",
        "# Propiedades del ambiente\n",
        "g = 9.81          # Aceleración del a gravedad [m/s^2]\n",
        "dT = 50           # Cambio de temperatura [C]\n",
        "\n",
        "# Carga en la barra\n",
        "P = 200           # Carga puntual[N]\n",
        "Lp = L/3          # Localización de la barra desde el extremo inferior [m]\n",
        "\n",
        "# Discretización de elementos finitos\n",
        "nel_t = 7         # Número de elementos (número inicial tRentativo)\n"
      ],
      "metadata": {
        "id": "XeeYkubDXq31"
      },
      "execution_count": null,
      "outputs": []
    },
    {
      "cell_type": "code",
      "source": [
        "# ----\n",
        "# Coordenadas (localización) de cada uno de los nodos\n",
        "# (en este ejemplo se distribuiran los nel elementos entre los\n",
        "# segmentos superior e inferior a la localización de la barra)\n",
        "# ----\n",
        "\n",
        "# Razonamiento:\n",
        "# 1.  Se quiere dividir el nel_T en la porción superior e inferior\n",
        "#     por lo tanto nel_Tdiv_sup+div_inf.\n",
        "# 2.  Se buscan que todos los elementos tengan - en la medida de lo\n",
        "#     posible una longitud similar: (L-Lp)/div_sup = Lp/div_inf\n",
        "\n",
        "div_sup = int(np.ceil((1-(Lp/L))*nel_t))\n",
        "div_inf = int(np.ceil((Lp/L)*nel_t))\n",
        "\n",
        "x_sup = np.linspace(0,(L-Lp), div_sup, False)\n",
        "x_inf = np.linspace((L-Lp), L, div_inf+1)\n",
        "x_coord = np.concatenate((x_sup, x_inf))\n",
        "\n",
        "nel = div_sup + div_inf   # Número de elementos (se recalculan por efecto del\n",
        "                          # redondeo de div_sup y div_inf)\n",
        "\n",
        "nnodos = nel + 1          # Número de nodos (nel + 1)\n",
        "\n",
        "# print(x_coord)"
      ],
      "metadata": {
        "id": "Uz-AqYZ9MWLG"
      },
      "execution_count": null,
      "outputs": []
    },
    {
      "cell_type": "code",
      "source": [
        "# ----\n",
        "# Arreglo de conectividad nodal de cada elemento\n",
        "# (Topología de los elementos)\n",
        "# ----\n",
        "\n",
        "# Dado que en un problema 1D la numeración de los nodos\n",
        "# es secuencial, se utiliza un arreglo bi-dimensional\n",
        "# en el cual el primer indice indica el numero del elemento\n",
        "# y el segundo o indice denota el número del nodo asociado con\n",
        "# dicho elemento. La primera columna es el nodo 1 de la\n",
        "# fomulación local y la segunda columna el nodo 2.\n",
        "\n",
        "C = np.zeros((nel, 2), dtype=int)\n",
        "\n",
        "for i in range(nel):\n",
        "  C[i,0] = i\n",
        "  C[i,1] = i+1\n",
        "\n",
        "# print(C)"
      ],
      "metadata": {
        "id": "5Jr3z75YYsIx"
      },
      "execution_count": null,
      "outputs": []
    },
    {
      "cell_type": "code",
      "source": [
        "# ----\n",
        "# Tamaño de los elementos (longitud entre nodos)\n",
        "# ----\n",
        "\n",
        "he = np.zeros(nel, dtype=float)\n",
        "\n",
        "for num_ele in range(nel):\n",
        "  # extrae los numeros globales de los nodos de la matriz de conectividad\n",
        "  nodo1 = C[num_ele,0]\n",
        "  nodo2 = C[num_ele,1]\n",
        "\n",
        "  # extrae las coordenadas de los nodos\n",
        "  x1 = x_coord[nodo1]\n",
        "  x2 = x_coord[nodo2]\n",
        "\n",
        "  # calcula la longitud del elemento\n",
        "  he[num_ele] = (x2-x1)\n",
        "\n",
        "# print(he)\n"
      ],
      "metadata": {
        "id": "zP6EOcbCjAdf"
      },
      "execution_count": null,
      "outputs": []
    },
    {
      "cell_type": "code",
      "source": [
        "# ----\n",
        "# Condiciones de frontera\n",
        "# (Desplazamientos conocidos)\n",
        "# ----\n",
        "\n",
        "# Se crean dos arreglos: cfdof que almacena el numero de nodo\n",
        "# y el segundo cfval que almacen el valor de desplazamiento en este nodo.\n",
        "\n",
        "# En este ejemplo existen dos desplazamientos conocidos.\n",
        "\n",
        "cfdof = np.zeros(2, dtype=int)    # Este arreglo almacena los numeros de nodos\n",
        "cfval = np.zeros(2, dtype=float)  # Este arreglo almacena el valor del desplazamiento\n",
        "\n",
        "cfdof[0] = 0\n",
        "cfval[0] = 0.0\n",
        "\n",
        "cfdof[1] = nnodos-1\n",
        "cfval[1] = 0.0\n",
        "\n",
        "# print(cfdof, cfval)"
      ],
      "metadata": {
        "id": "njzC337K11vF"
      },
      "execution_count": null,
      "outputs": []
    },
    {
      "cell_type": "code",
      "source": [
        "# ----\n",
        "# Fuerzas nodales aplicadas\n",
        "# ----\n",
        "\n",
        "# Se crean dos arreglos: fndof que almacena el numero de nodo\n",
        "# y el segundo fnval que almacen el valor de la fuerza en el nodo.\n",
        "\n",
        "# En este ejemplo existe una fuerza externa aplicada.\n",
        "\n",
        "fndof = np.zeros(1, dtype=int)    # Este arreglo almacena los numeros de nodos\n",
        "fnval = np.zeros(1, dtype=float)  # Este arreglo almacena el valor de las fuerzas\n",
        "\n",
        "fndof[0] = div_sup\n",
        "fnval[0] = P\n",
        "\n",
        "# print(fndof, fnval)"
      ],
      "metadata": {
        "id": "zKPWdv-KNU0I"
      },
      "execution_count": null,
      "outputs": []
    },
    {
      "cell_type": "markdown",
      "source": [
        "## Solución\n",
        "Durante la solución, se construyen la matriz de rigidez $K$, el vector de fuerza $\\vec F$ y se soluciona el sistema $K \\vec u = \\vec F$."
      ],
      "metadata": {
        "id": "pyPoaeRLihvp"
      }
    },
    {
      "cell_type": "code",
      "source": [
        "# ----\n",
        "# Construcción de la matríx de rígidez K\n",
        "# ----\n",
        "\n",
        "K = np.zeros((nnodos, nnodos), dtype=float)\n",
        "\n",
        "for i in range(nnodos):\n",
        "    # Calcula la matriz triangular superior y luego se aplica simetría\n",
        "    for j in range(i, nnodos):\n",
        "        if i == j:\n",
        "            if i == 0:\n",
        "                K[i, j] = E*A/he[j]\n",
        "            elif i == nnodos - 1:\n",
        "                K[i, j] = E*A/he[j-1]\n",
        "            else:\n",
        "                K[i, j] = E*A*(1/he[j-1]+1/he[j])\n",
        "        elif abs(i - j) == 1:\n",
        "            K[i, j] = -E*A/he[j-1]\n",
        "            K[j, i] = K[i, j] # Simetría de la matriz de rigidez\n",
        "\n",
        "# print(K)"
      ],
      "metadata": {
        "id": "wWHM2tWWQ_t-"
      },
      "execution_count": null,
      "outputs": []
    },
    {
      "cell_type": "code",
      "source": [
        "# ----\n",
        "# Construcción del vector de fuerza F\n",
        "# ----\n",
        "\n",
        "Ft = np.zeros((nnodos, 1), dtype=float)    # Componente del vector debido a los efectos térmicos\n",
        "Fg = np.zeros((nnodos, 1), dtype=float)    # Componente del vector debido al peso.\n",
        "F = np.zeros((nnodos, 1), dtype=float)     # F = Fg + Ft\n",
        "\n",
        "for i in range(nnodos):\n",
        "  if (i == 0):\n",
        "    Ft[i] = -E*A*alfa*dT\n",
        "    Fg[i] = ro*g*A*(he[i])/2\n",
        "  elif (i == nnodos - 1):\n",
        "    Ft[i] = E*A*alfa*dT\n",
        "    Fg[i] = ro*g*A*(he[i-1])/2\n",
        "  else:\n",
        "    Ft[i] = 0\n",
        "    Fg[i] = ro*g*A*(he[i-1] + he[i])/2\n",
        "\n",
        "  F[i] = Ft[i]+Fg[i]\n",
        "\n",
        "# ----\n",
        "# Se incluyen en F las fuerzas nodales aplicadas (almacendas en fndof y fnval)\n",
        "# ----\n",
        "\n",
        "for num_fn in range(fndof.shape[0]):\n",
        "  F[fndof[num_fn]] += fnval[num_fn]     # suma fnval[num_fn] al valor almacenado en F[fndof[num_fn]]\n",
        "\n",
        "# print(F)"
      ],
      "metadata": {
        "id": "ec4adhaWIdj4"
      },
      "execution_count": null,
      "outputs": []
    },
    {
      "cell_type": "code",
      "source": [
        "# ----\n",
        "# Aplica las restricciones (desplazamientos conocidos)\n",
        "# modificando K y F\n",
        "# ----\n",
        "\n",
        "# Se utiliza una copia de K para incluir las condiciones de frontera cf\n",
        "Kcf = np.copy(K)\n",
        "\n",
        "for num_cf in range(cfdof.shape[0]):\n",
        "  i = cfdof[num_cf]                  # este es el número de nodo.\n",
        "  F[i] = cfval[num_cf]               # este es el valor del desplazamiento\n",
        "\n",
        "  for j in range(nnodos):\n",
        "    if i==j:\n",
        "      Kcf[i,j] = 1.0\n",
        "    else:\n",
        "      Kcf[i,j] = 0.0\n",
        "\n",
        "# print(Kcf,F)"
      ],
      "metadata": {
        "id": "QtvmXcgcmCiZ"
      },
      "execution_count": null,
      "outputs": []
    },
    {
      "cell_type": "code",
      "source": [
        "# ----\n",
        "# Cálculo de desplazamientos nodales\n",
        "# ----\n",
        "\n",
        "u = np.zeros((nnodos, 1), dtype=float)    # vector con los deplazamientos calculados.\n",
        "\n",
        "u = np.linalg.solve(Kcf,F)                # soluciona el sistema.\n",
        "\n",
        "# print(u)"
      ],
      "metadata": {
        "id": "739tSrEmx1Au"
      },
      "execution_count": null,
      "outputs": []
    },
    {
      "cell_type": "code",
      "source": [
        "# ----\n",
        "# Calculo de reacciones nodales\n",
        "# ----\n",
        "\n",
        "Rn = np.zeros((nnodos, 1), dtype=float)    # vector con las reacciones nodales.\n",
        "\n",
        "Rn = K@u\n",
        "\n",
        "# print(Rn)"
      ],
      "metadata": {
        "id": "J1c7rFYwzgh2"
      },
      "execution_count": null,
      "outputs": []
    },
    {
      "cell_type": "code",
      "source": [
        "# ----\n",
        "# Calculo de esfuerzos en los elementos\n",
        "# ----\n",
        "\n",
        "esfuerzo = np.zeros((nel, 1), dtype=float)    # vector los esfuerzos en cada elemento\n",
        "\n",
        "for num_ele in range(nel):\n",
        "\n",
        "  # extrae los numeros globales de los nodos de la matriz de conectividad\n",
        "  nodo1 = C[num_ele,0]\n",
        "  nodo2 = C[num_ele,1]\n",
        "\n",
        "  # calcula la longitud del elemento\n",
        "  esfuerzo[num_ele] = E*((u[nodo2]-u[nodo1])/he[num_ele] - alfa*dT)\n",
        "\n",
        "# print(esfuerzo)"
      ],
      "metadata": {
        "id": "QwJhlUFn9Bbo"
      },
      "execution_count": null,
      "outputs": []
    },
    {
      "cell_type": "markdown",
      "source": [
        "## Post-procesamiento\n",
        "Esta etapa se utiliza para visualizar las soluciones y ver imágenes gráficas de los desplazamientos, esfuerzos, deformaciones, etc."
      ],
      "metadata": {
        "id": "pR4gG8Y6b-qa"
      }
    },
    {
      "cell_type": "code",
      "source": [
        "# ----\n",
        "# Grafica de desplazamientos\n",
        "# ----\n",
        "\n",
        "# Deplazamientos del MEF\n",
        "plt.plot(x_coord, u, 'b', marker = 'o', label='Solución MEF')\n",
        "plt.xlabel('x')\n",
        "plt.ylabel('Desplazamiento')\n",
        "plt.title('Desplazamiento por MEF vs Exacto')\n",
        "\n",
        "# Desplazamientos exactos\n",
        "\n",
        "# Función u_sup(x) en el segmento superior\n",
        "def u_sup(x):\n",
        "    return ro*g*(L*x-x**2)/(2*E)+P*Lp*x/(A*E*L)\n",
        "\n",
        "# Función u_inf(x) en el segmento inferior\n",
        "def u_inf(x):\n",
        "    return ro*g*(L**2-x**2)/(2*E)+(x-L)*(ro*g*L/(2*E)-P*(L-Lp)/(A*E*L))\n",
        "\n",
        "x_s = np.linspace(0,(L-Lp))\n",
        "u_s = u_sup(x_s)\n",
        "\n",
        "x_i = np.linspace((L-Lp), L)\n",
        "u_i = u_inf(x_i)\n",
        "\n",
        "\n",
        "# Plot de solución exacta\n",
        "plt.plot(x_s, u_s, 'g--', label='Solución exacta')\n",
        "plt.plot(x_i, u_i, 'g--')\n",
        "\n",
        "# Titulos de ejes\n",
        "plt.xlabel('x [m]')\n",
        "plt.ylabel('u [m]')\n",
        "plt.legend()\n",
        "plt.grid(True)\n",
        "\n",
        "plt.show()"
      ],
      "metadata": {
        "id": "RWAUcAjF_Dt6",
        "colab": {
          "base_uri": "https://localhost:8080/",
          "height": 472
        },
        "outputId": "b3ccb49d-01d2-4cc0-d161-2d173d9a37e0"
      },
      "execution_count": null,
      "outputs": [
        {
          "output_type": "display_data",
          "data": {
            "text/plain": [
              "<Figure size 640x480 with 1 Axes>"
            ],
            "image/png": "[encoded data removed]"
          },
          "metadata": {}
        }
      ]
    },
    {
      "cell_type": "code",
      "source": [
        "# ----\n",
        "# Grafica de esfuerzos\n",
        "# ----\n",
        "\n",
        "# Esfuerzos del MEF\n",
        "for num_ele in range(nel):\n",
        "\n",
        "  # extrae los numeros globales de los nodos de la matriz de conectividad\n",
        "  nodo1 = C[num_ele,0]\n",
        "  nodo2 = C[num_ele,1]\n",
        "\n",
        "  # extrae las coordenadas de los nodos\n",
        "  x1 = x_coord[nodo1]\n",
        "  x2 = x_coord[nodo2]\n",
        "\n",
        "  plt.plot([x1,x2], [esfuerzo[num_ele], esfuerzo[num_ele]],'b')\n",
        "\n",
        "# Esta línea es para que aparezca la etiqueta 'Solución MEF'\n",
        "plt.plot([],[], 'b', label = 'Solución MEF')\n",
        "\n",
        "# Esfuerzos exactos\n",
        "\n",
        "# Función esf_sup(x) en el segmento superior\n",
        "def esf_sup(x):\n",
        "    return ro*g*(L-2*x)/2+P*Lp/(A*L)-E*alfa*dT\n",
        "\n",
        "# Función esf_inf(x) en el segmento inferior\n",
        "def esf_inf(x):\n",
        "    return ro*g*(L-2*x)/2-P*(L-Lp)/(A*L)-E*alfa*dT\n",
        "\n",
        "x_s = np.linspace(0,(L-Lp),5)\n",
        "esf_s = esf_sup(x_s)\n",
        "\n",
        "x_i = np.linspace((L-Lp), L,5)\n",
        "esf_i = esf_inf(x_i)\n",
        "\n",
        "# Plot de solución exacta\n",
        "plt.plot(x_s, esf_s, 'g--', label='Solución exacta')\n",
        "plt.plot(x_i, esf_i, 'g--')\n",
        "plt.legend(loc='best')\n",
        "\n",
        "plt.xlabel('x [m]')\n",
        "plt.ylabel('Esfuerzo [Pa]')\n",
        "plt.title('Esfuerzo por MEF vs Exacto')\n",
        "plt.legend()\n",
        "plt.grid(True)\n",
        "\n",
        "plt.show()"
      ],
      "metadata": {
        "id": "rzRvSJ7LDciq",
        "colab": {
          "base_uri": "https://localhost:8080/",
          "height": 472
        },
        "outputId": "9ca86b30-7190-4859-ad38-73af2f4e5eef"
      },
      "execution_count": null,
      "outputs": [
        {
          "output_type": "display_data",
          "data": {
            "text/plain": [
              "<Figure size 640x480 with 1 Axes>"
            ],
            "image/png": "[encoded data removed]"
          },
          "metadata": {}
        }
      ]
    },
    {
      "cell_type": "markdown",
      "source": [],
      "metadata": {
        "id": "yaE4Q_Uf9whu"
      }
    },
    {
      "cell_type": "code",
      "source": [
        "# ----\n",
        "# Reporte de parámetros para análisis de convergencia\n",
        "# ----\n",
        "\n",
        "# Esfuerzo en x = 0 (FEM)\n",
        "print(esfuerzo[0])\n"
      ],
      "metadata": {
        "id": "Gsd2WAT3o0Hk",
        "colab": {
          "base_uri": "https://localhost:8080/"
        },
        "outputId": "6e70d8ba-b734-4695-d02e-23e0a0df9644"
      },
      "execution_count": null,
      "outputs": [
        {
          "output_type": "stream",
          "name": "stdout",
          "text": [
            "[-1.19943278e+08]\n"
          ]
        }
      ]
    },
    {
      "cell_type": "markdown",
      "source": [
        "## FIN"
      ],
      "metadata": {
        "id": "gXvFSkgP6dUE"
      }
    },
    {
      "cell_type": "code",
      "source": [
        "# prompt: Stop execution\n",
        "\n",
        "# import sys\n",
        "# sys.exit()\n"
      ],
      "metadata": {
        "id": "_XswIQK1s6lf"
      },
      "execution_count": null,
      "outputs": []
    }
  ]
}