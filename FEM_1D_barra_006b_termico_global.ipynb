{
  "nbformat": 4,
  "nbformat_minor": 0,
  "metadata": {
    "colab": {
      "provenance": [],
      "authorship_tag": "ABX9TyNtupb8yrOtjzVzj27FWMXt",
      "include_colab_link": true
    },
    "kernelspec": {
      "name": "python3",
      "display_name": "Python 3"
    },
    "language_info": {
      "name": "python"
    }
  },
  "cells": [
    {
      "cell_type": "markdown",
      "metadata": {
        "id": "view-in-github",
        "colab_type": "text"
      },
      "source": [
        "<a href=\"https://colab.research.google.com/github/alejandromaranon/FEM/blob/main/FEM_1D_barra_006b_termico_global.ipynb\" target=\"_parent\"><img src=\"https://colab.research.google.com/assets/colab-badge.svg\" alt=\"Open In Colab\"/></a>"
      ]
    },
    {
      "cell_type": "markdown",
      "source": [
        "# **Ejemplo 6: Barra FEM 1D con Efecto Térmico - Formulación Global**\n",
        "\n",
        "La barra sólidamente unida a los soportes superior e inferior, está sometida al efecto de su propio peso y al de una carga $P$ localizada a $L_p$ del soporte inferior. La barra tiene una longitud $L$, un área de sección transversal $A$, una densidad $\\rho$, un módulo de elasticidad $E$ y un coeficiente de expansión térmica $α$ La barra experimenta un cambio de temperatura $\\Delta T$."
      ],
      "metadata": {
        "id": "sy0AiNlsTcUi"
      }
    },
    {
      "cell_type": "code",
      "source": [
        "from IPython.display import Image\n",
        "Image(url='https://raw.githubusercontent.com/alejandromaranon/FEM/9dce073baeaa8e08ba6393f3502a83f55f1dcec8/Images/FEM_1D_barra_006c_termico_global.svg', width=250)\n"
      ],
      "metadata": {
        "colab": {
          "base_uri": "https://localhost:8080/",
          "height": 322
        },
        "id": "LqVynCk0PFRu",
        "outputId": "353670f2-adfa-4d7e-ad1d-4c63d3890743"
      },
      "execution_count": 22,
      "outputs": [
        {
          "output_type": "execute_result",
          "data": {
            "text/html": [
              "<img src=\"https://raw.githubusercontent.com/alejandromaranon/FEM/9dce073baeaa8e08ba6393f3502a83f55f1dcec8/Images/FEM_1D_barra_006c_termico_global.svg\" width=\"250\"/>"
            ],
            "text/plain": [
              "<IPython.core.display.Image object>"
            ]
          },
          "metadata": {},
          "execution_count": 22
        }
      ]
    },
    {
      "cell_type": "markdown",
      "source": [
        "En este ejemplo se implementa el Método de Elementos Finitos (**formulación global**), para el cálculo de desplazamientos y esfuerzos en la barra."
      ],
      "metadata": {
        "id": "70mFLSgSPhYq"
      }
    },
    {
      "cell_type": "markdown",
      "source": [
        "## Forma fuerte (desplazamientos) del problema\n",
        "\n",
        "Dados $A$, $\\rho$, $E$, $α$ y $\\Delta T$ en $[0,L]$ encontrar $u$ tal que:\n",
        "\n",
        "$EA u_{1,xx} + \\rho g A = 0$ en $[0,L-L_p]$\n",
        "\n",
        "$u_1=0$ en $x=0$\n",
        "\n",
        "$EA u_{2,xx} + \\rho g A = 0$ en $[L-L_p,L]$\n",
        "\n",
        "$u_2=0$ en $x=L$\n",
        "\n",
        "$u_1=u_2$ en $x=L-L_p$\n",
        "\n",
        "$u_{1,x} = u_{2,x}+P/AE$ en $x=L-L_p$\n",
        "\n",
        "Las soluciones exactas del desplazamiento y del esfuerzo de esta forma son las siguientes:\n",
        "\n",
        "$u_1(x) = \\frac{\\rho g}{2E}(Lx-x^2)+(\\frac{Lp}{L})\\frac{Px}{AE}$ en $[0,L-L_p]$\n",
        "\n",
        "$u_2(x) = \\frac{\\rho g}{2E}(L^2-x^2)+(x-L)(\\frac{\\rho g L}{2E}-\\frac{P(L-L_p)}{AEL})$ en $[L_p,L]$\n",
        "\n",
        "\n",
        "$σ_1(x) = \\rho g (\\frac{L}{2}-x)+(\\frac{Lp}{L})\\frac{P}{A}-E \\alpha ΔT$ en $[0,L-L_p]$\n",
        "\n",
        "$σ_2(x) = \\rho g (\\frac{L}{2}-x)+\\frac{P(L-Lp)}{AL}-E \\alpha ΔT$ en $[L_p,L]$"
      ],
      "metadata": {
        "id": "vUPflrBuyOiv"
      }
    },
    {
      "cell_type": "code",
      "source": [
        "import numpy as np\n",
        "import matplotlib.pyplot as plt\n",
        "import matplotlib.ticker as ticker\n",
        "from scipy.stats import beta"
      ],
      "metadata": {
        "id": "QBrfZnQwRrM7"
      },
      "execution_count": 23,
      "outputs": []
    },
    {
      "cell_type": "markdown",
      "source": [
        "**NOTA IMPORTANTE**:\n",
        "\n",
        "En Python el primer indice (posición) de un arreglo (vector o matriz) es cero (0). A diferencia de Matlab, donde el primer indice es 1.\n"
      ],
      "metadata": {
        "id": "GI1y5XBAOfYi"
      }
    },
    {
      "cell_type": "markdown",
      "source": [
        "## Pre-procesamiento\n",
        "Durante el preprocesamiento, se genera la malla para una geometría determinada y se especifican las propiedades de los materiales, las condiciones de frontera y las cargas prescritas."
      ],
      "metadata": {
        "id": "3NaCHNOVbRUq"
      }
    },
    {
      "cell_type": "code",
      "source": [
        "# ----\n",
        "# Parámetros de control del problema\n",
        "# ----\n",
        "\n",
        "# Geometría de la barra [SI]\n",
        "L = 1.5             # Longitud en [m]\n",
        "A = 0.01          # Area de la sección transversal [m^2]\n",
        "\n",
        "# Propiedades mecánicas del material\n",
        "E = 200E9         # Módulo de Elasticidad [Pa]\n",
        "\n",
        "# Propiedades físicas del material\n",
        "alfa = 12E-6      # Coeficiente de expansión térmica [1/C]\n",
        "ro = 7850         # Densidad [kg/m^3]\n",
        "\n",
        "# Propiedades del ambiente\n",
        "g = 9.81       # Aceleración del a gravedad [m/s^2]\n",
        "dT = 50           # Cambio de temperatura [C]\n",
        "\n",
        "# Carga en la barra\n",
        "P = 200           # Carga puntual[N]\n",
        "Lp = L/3          # Localización de la barra desde el extremo inferior [m]\n",
        "\n",
        "# Discretización de elementos finitos\n",
        "nel_T = 1       # Número de elementos (número inicial tRentativo)\n"
      ],
      "metadata": {
        "id": "XeeYkubDXq31"
      },
      "execution_count": 24,
      "outputs": []
    },
    {
      "cell_type": "code",
      "source": [
        "# ----\n",
        "# Coordenadas (localización) de cada uno de los nodos\n",
        "# (en este ejemplo se distribuiran los nel elementos entre los\n",
        "# segmentos superior e inferior a la localización de la barra)\n",
        "# ----\n",
        "\n",
        "xp = (L-Lp)\n",
        "div_sup = int(np.ceil((1-(Lp/L))*nel_T))\n",
        "div_inf = int(np.ceil((Lp/L)*nel_T))\n",
        "\n",
        "x_sup = np.linspace(0,(L-Lp), div_sup, False)\n",
        "x_inf = np.linspace((L-Lp), L, div_inf+1)\n",
        "x_coord = np.concatenate((x_sup, x_inf))\n",
        "\n",
        "nel = div_sup + div_inf   # Número de elementos\n",
        "\n",
        "nnodos = nel + 1          # Número de nodos (nel + 1)\n",
        "\n",
        "# print(x_coord)"
      ],
      "metadata": {
        "id": "Uz-AqYZ9MWLG"
      },
      "execution_count": 25,
      "outputs": []
    },
    {
      "cell_type": "markdown",
      "source": [],
      "metadata": {
        "id": "JYmpI54evR4G"
      }
    },
    {
      "cell_type": "code",
      "source": [
        "# ----\n",
        "# Arreglo de conectividad nodal de cada elemento\n",
        "# (Topología de los elementos)\n",
        "# ----\n",
        "\n",
        "# Dado que en un problema 1D la numeración de los nodos\n",
        "# es secuencial, se utiliza un arreglo bi-dimensional\n",
        "# en el cual el primer indice indica el numero del elemento\n",
        "# y el segundo o indice denota el número del nodo asociado con\n",
        "# dicho elemento. La primera columna es el nodo 1 de la\n",
        "# fomulación local y la segunda columna el nodo 2.\n",
        "\n",
        "nodos = np.array([[i,i+1] for i in range(nel)], dtype=int)\n",
        "\n",
        "# print(nodos)"
      ],
      "metadata": {
        "id": "5Jr3z75YYsIx"
      },
      "execution_count": 26,
      "outputs": []
    },
    {
      "cell_type": "code",
      "source": [
        "# ----\n",
        "# Tamaño de los elementos (longitud entre nodos)\n",
        "# ----\n",
        "\n",
        "he = np.zeros((nel, 1))\n",
        "\n",
        "for num_ele in range(nel):\n",
        "  # extrae los numeros globales de los nodos del elemento\n",
        "  nodo1 = nodos[[num_ele],0]\n",
        "  nodo2 = nodos[[num_ele],1]\n",
        "\n",
        "  # extrae las coordenadas de los nodos\n",
        "  x1 = x_coord[nodo1]\n",
        "  x2 = x_coord[nodo2]\n",
        "\n",
        "  # calcula la longitud del elemento\n",
        "  he[num_ele] = (x2-x1)\n",
        "\n",
        "# print(he)"
      ],
      "metadata": {
        "id": "zP6EOcbCjAdf"
      },
      "execution_count": 27,
      "outputs": []
    },
    {
      "cell_type": "code",
      "source": [
        "# ----\n",
        "# Condiciones de frontera\n",
        "# (Desplazamientos conocidos)\n",
        "# ----\n",
        "\n",
        "# La primera columna de cf es el número del nodo y\n",
        "# el segundo es el valor del desplazamiento en dicho nodo.\n",
        "\n",
        "cf = np.array([[0, 0], [nnodos-1, 0]])  # Recordar que los indices inician en cero.\n",
        "\n",
        "# print(cf)"
      ],
      "metadata": {
        "id": "njzC337K11vF"
      },
      "execution_count": 28,
      "outputs": []
    },
    {
      "cell_type": "code",
      "source": [
        "# ----\n",
        "# Fuerzas nodales aplicadas\n",
        "# ----\n",
        "\n",
        "fn = np.array([[(div_sup), P]])\n",
        "\n",
        "# print(fn)"
      ],
      "metadata": {
        "id": "zKPWdv-KNU0I"
      },
      "execution_count": 29,
      "outputs": []
    },
    {
      "cell_type": "markdown",
      "source": [
        "## Solución\n",
        "Durante la solución, se calculan las matrices de elementos y se resuelven las ecuaciones."
      ],
      "metadata": {
        "id": "pyPoaeRLihvp"
      }
    },
    {
      "cell_type": "code",
      "source": [
        "# ----\n",
        "# Construcción de la matríx de rígidez K\n",
        "# ----\n",
        "\n",
        "K = np.zeros((nnodos, nnodos))\n",
        "\n",
        "for i in range(nnodos):\n",
        "    # Calcula la matriz triangular superior y luego aplica simetría\n",
        "    for j in range(i, nnodos):\n",
        "        if i == j:\n",
        "            if i == 0:\n",
        "                K[i, j] = E*A/he[j,0]\n",
        "            elif i == nnodos - 1:\n",
        "                K[i, j] = E*A/he[j-1,0]\n",
        "            else:\n",
        "                K[i, j] = E*A*(1/he[j-1,0]+1/he[j,0])\n",
        "        elif abs(i - j) == 1:\n",
        "            K[i, j] = -E*A/he[j-1,0]\n",
        "            K[j, i] = K[i, j] # Simetría de la matriz de rigidez\n",
        "\n",
        "# print(K)"
      ],
      "metadata": {
        "id": "wWHM2tWWQ_t-"
      },
      "execution_count": 30,
      "outputs": []
    },
    {
      "cell_type": "code",
      "source": [
        "# ----\n",
        "# Construcción del vector de fuerza F\n",
        "# ----\n",
        "\n",
        "Ft = np.zeros((nnodos, 1))    # Componente del vector debido a los efectos térmicos\n",
        "Fg = np.zeros((nnodos, 1))    # Componente del vector debido al peso.\n",
        "F = np.zeros((nnodos, 1))     # F = Fg + Ft\n",
        "\n",
        "for i in range(nnodos):\n",
        "  if (i == 0):\n",
        "    Ft[i] = -E*A*alfa*dT\n",
        "    Fg[i] = ro*g*A*(he[i])/2\n",
        "  elif (i == nnodos - 1):\n",
        "    Ft[i] = E*A*alfa*dT\n",
        "    Fg[i] = ro*g*A*(he[i-1])/2\n",
        "  else:\n",
        "    Ft[i] = 0\n",
        "    Fg[i] = ro*g*A*(he[i-1] + he[i])/2\n",
        "\n",
        "  F[i] = Ft[i]+Fg[i]\n",
        "\n",
        "# ----\n",
        "# Se incluyen en F las fuerzas nodales aplicadas (fn)\n",
        "# ----\n",
        "\n",
        "for num_fn in range(fn.shape[0]):\n",
        "  i = fn[num_fn,0]      # este es el número del nodo\n",
        "  F[i] += fn[num_fn,1]   # se suma el valor de la fuerza en el nodo\n",
        "\n",
        "# print(F)"
      ],
      "metadata": {
        "id": "ec4adhaWIdj4"
      },
      "execution_count": 31,
      "outputs": []
    },
    {
      "cell_type": "code",
      "source": [
        "# ----\n",
        "# Aplica las restricciones (desplazamientos conocidos)\n",
        "# modificando K y F\n",
        "# ----\n",
        "\n",
        "# Se utiliza una copia de K para incluir las condiciones de frontera cf\n",
        "Kcf = np.copy(K)\n",
        "\n",
        "for num_cf in range(cf.shape[0]):\n",
        "  i = cf[num_cf,0]      # este es el número del nodo\n",
        "  F[i] = cf[num_cf,1]   # este es el valor del desplazamiento\n",
        "\n",
        "  for j in range(nnodos):\n",
        "    if i==j:\n",
        "      Kcf[i,j] = 1\n",
        "    else:\n",
        "      Kcf[i,j] = 0\n",
        "\n",
        "# print(Kcf,F)"
      ],
      "metadata": {
        "id": "QtvmXcgcmCiZ"
      },
      "execution_count": 32,
      "outputs": []
    },
    {
      "cell_type": "code",
      "source": [],
      "metadata": {
        "id": "6rgHbsa5tQb2"
      },
      "execution_count": 32,
      "outputs": []
    },
    {
      "cell_type": "code",
      "source": [
        "# ----\n",
        "# Cálculo de desplazamientos nodales\n",
        "# ----\n",
        "\n",
        "u = np.linalg.solve(Kcf,F)\n",
        "\n",
        "# print(u)"
      ],
      "metadata": {
        "id": "739tSrEmx1Au"
      },
      "execution_count": 33,
      "outputs": []
    },
    {
      "cell_type": "code",
      "source": [
        "# ----\n",
        "# Calculo de reacciones nodales\n",
        "# ----\n",
        "\n",
        "Rn = K@u\n",
        "\n",
        "# print(Rn)"
      ],
      "metadata": {
        "id": "J1c7rFYwzgh2"
      },
      "execution_count": 34,
      "outputs": []
    },
    {
      "cell_type": "code",
      "source": [
        "# ----\n",
        "# Calculo de esfuerzos en los elementos\n",
        "# ----\n",
        "\n",
        "esfuerzo =[]\n",
        "\n",
        "for num_ele in range(nel):\n",
        "  # extrae los numeros globales de los nodos del elemento\n",
        "  nodo1 = nodos[[num_ele],0]\n",
        "  nodo2 = nodos[[num_ele],1]\n",
        "\n",
        "  # calcula la longitud del elemento\n",
        "  esfuerzo.append(E*((-u[nodo1]+u[nodo2])/he[num_ele] - alfa*dT))\n",
        "\n",
        "# print(esfuerzo)"
      ],
      "metadata": {
        "id": "QwJhlUFn9Bbo"
      },
      "execution_count": 35,
      "outputs": []
    },
    {
      "cell_type": "markdown",
      "source": [
        "## Post-procesamiento\n",
        "Esta etapa se utiliza para visualizar las soluciones y ver imágenes gráficas de los desplazamientos, esfuerzos, deformaciones, etc."
      ],
      "metadata": {
        "id": "pR4gG8Y6b-qa"
      }
    },
    {
      "cell_type": "code",
      "source": [
        "# ----\n",
        "# Grafica de desplazamientos\n",
        "# ----\n",
        "\n",
        "# Deplazamientos del MEF\n",
        "plt.plot(x_coord, u, 'b', marker = 'o', label='Solución MEF')\n",
        "plt.xlabel('x')\n",
        "plt.ylabel('Desplazamiento')\n",
        "plt.title('Desplazamiento por MEF vs Exacto')\n",
        "\n",
        "# Desplazamientos exactos\n",
        "\n",
        "# Función u_sup(x) en el segmento superior\n",
        "def u_sup(x):\n",
        "    return ro*g*(L*x-x**2)/(2*E)+P*Lp*x/(A*E*L)\n",
        "\n",
        "# Función u_inf(x) en el segmento inferior\n",
        "def u_inf(x):\n",
        "    return ro*g*(L**2-x**2)/(2*E)+(x-L)*(ro*g*L/(2*E)-P*(L-Lp)/(A*E*L))\n",
        "\n",
        "x_s = np.linspace(0,(L-Lp))\n",
        "u_s = u_sup(x_s)\n",
        "\n",
        "x_i = np.linspace((L-Lp), L)\n",
        "u_i = u_inf(x_i)\n",
        "\n",
        "\n",
        "# Plot de solución exacta\n",
        "plt.plot(x_s, u_s, 'g--', label='Solución exacta')\n",
        "plt.plot(x_i, u_i, 'g--')\n",
        "\n",
        "# Titulos de ejes\n",
        "plt.xlabel('x [m]')\n",
        "plt.ylabel('u [m]')\n",
        "plt.legend()\n",
        "plt.grid(True)\n"
      ],
      "metadata": {
        "id": "RWAUcAjF_Dt6",
        "colab": {
          "base_uri": "https://localhost:8080/",
          "height": 472
        },
        "outputId": "cc77d0e8-ddf9-4fa8-cde0-1bcd57d1c9a8"
      },
      "execution_count": 36,
      "outputs": [
        {
          "output_type": "display_data",
          "data": {
            "text/plain": [
              "<Figure size 640x480 with 1 Axes>"
            ],
            "image/png": "[encoded data removed]"
          },
          "metadata": {}
        }
      ]
    },
    {
      "cell_type": "code",
      "source": [
        "# ----\n",
        "# Grafica de esfuerzos\n",
        "# ----\n",
        "\n",
        "# Esfuerzos del MEF\n",
        "for num_ele in range(nel):\n",
        "  # extrae los numeros globales de los nodos del elemento\n",
        "  nodo1 = nodos[[num_ele],0]\n",
        "  nodo2 = nodos[[num_ele],1]\n",
        "\n",
        "  # extrae las coordenadas de los nodos\n",
        "  x1 = x_coord[nodo1]\n",
        "  x2 = x_coord[nodo2]\n",
        "\n",
        "  plt.plot([x1,x2], [esfuerzo[num_ele][0], esfuerzo[num_ele][0]],'b')\n",
        "\n",
        "# Esta línea es para que aparezca la etiqueta 'Solución MEF'\n",
        "plt.plot([],[], 'b', label = 'Solución MEF')\n",
        "\n",
        "# Formatea los nombres del eje de esfuerzo en notación de ingeniería\n",
        "# plt.gca().yaxis.set_major_formatter(ticker.EngFormatter())\n",
        "\n",
        "# Esfuerzos exactos\n",
        "\n",
        "# Función esf_sup(x) en el segmento superior\n",
        "def esf_sup(x):\n",
        "    return ro*g*(L-2*x)/2+P*Lp/(A*L)-E*alfa*dT\n",
        "\n",
        "# Función esf_inf(x) en el segmento inferior\n",
        "def esf_inf(x):\n",
        "    return ro*g*(L-2*x)/2-P*(L-Lp)/(A*L)-E*alfa*dT\n",
        "\n",
        "x_s = np.linspace(0,(L-Lp),5)\n",
        "esf_s = esf_sup(x_s)\n",
        "\n",
        "x_i = np.linspace((L-Lp), L,5)\n",
        "esf_i = esf_inf(x_i)\n",
        "\n",
        "# Plot de solución exacta\n",
        "plt.plot(x_s, esf_s, 'g--', label='Solución exacta')\n",
        "plt.plot(x_i, esf_i, 'g--')\n",
        "plt.legend(loc='best')\n",
        "\n",
        "plt.xlabel('x [m]')\n",
        "plt.ylabel('Esfuerzo [Pa]')\n",
        "plt.title('Esfuerzo por MEF vs Exacto')\n",
        "plt.grid(True)\n",
        "\n",
        "plt.show()"
      ],
      "metadata": {
        "id": "rzRvSJ7LDciq",
        "colab": {
          "base_uri": "https://localhost:8080/",
          "height": 472
        },
        "outputId": "6b729d4f-ad6b-4127-a4b7-00859d66cd0e"
      },
      "execution_count": 37,
      "outputs": [
        {
          "output_type": "display_data",
          "data": {
            "text/plain": [
              "<Figure size 640x480 with 1 Axes>"
            ],
            "image/png": "[encoded data removed]"
          },
          "metadata": {}
        }
      ]
    },
    {
      "cell_type": "markdown",
      "source": [],
      "metadata": {
        "id": "yaE4Q_Uf9whu"
      }
    },
    {
      "cell_type": "code",
      "source": [
        "# ----\n",
        "# Reporte de parámetros para análisis de convergencia\n",
        "# ----\n",
        "\n",
        "# Esfuerzo en x = 0 (FEM)\n",
        "print(((esfuerzo[0])))\n"
      ],
      "metadata": {
        "id": "Gsd2WAT3o0Hk",
        "colab": {
          "base_uri": "https://localhost:8080/"
        },
        "outputId": "491cb6ac-9531-4852-9530-242a8ed3c0e2"
      },
      "execution_count": 38,
      "outputs": [
        {
          "output_type": "stream",
          "name": "stdout",
          "text": [
            "[[-1.19974081e+08]]\n"
          ]
        }
      ]
    },
    {
      "cell_type": "markdown",
      "source": [
        "## FIN"
      ],
      "metadata": {
        "id": "gXvFSkgP6dUE"
      }
    },
    {
      "cell_type": "code",
      "source": [
        "# prompt: Stop execution\n",
        "\n",
        "# import sys\n",
        "# sys.exit()\n"
      ],
      "metadata": {
        "id": "_XswIQK1s6lf"
      },
      "execution_count": 39,
      "outputs": []
    }
  ]
}